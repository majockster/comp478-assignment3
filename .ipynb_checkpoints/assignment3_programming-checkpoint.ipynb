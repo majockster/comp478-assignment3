{
 "cells": [
  {
   "cell_type": "code",
   "execution_count": 30,
   "id": "ae095c40",
   "metadata": {},
   "outputs": [],
   "source": [
    "import numpy as np\n",
    "import cv2\n",
    "\n",
    "#loading the images\n",
    "Ia = cv2.imread('house.tif', 0)\n",
    "Ib = cv2.imread('jet.tiff', 0)\n",
    "\n",
    "#applying the fourier transforms and center the transforms\n",
    "Fa = cv2.dft(np.float32(Ia), flags = cv2.DFT_COMPLEX_OUTPUT)\n",
    "dft_shift_a = np.fft.fftshift(Fa)\n",
    "Fb = cv2.dft(np.float32(Ib), flags = cv2.DFT_COMPLEX_OUTPUT)\n",
    "dft_shift_b = np.fft.fftshift(Fb)\n",
    "\n",
    "#getting the magnitudes and phases\n",
    "magA, phaseA = cv2.cartToPolar(dft_shift_a[:,:,0], dft_shift_a[:,:,1])\n",
    "magB, phaseB = cv2.cartToPolar(dft_shift_b[:,:,0], dft_shift_b[:,:,1])"
   ]
  },
  {
   "cell_type": "code",
   "execution_count": 35,
   "id": "c4bac1f9",
   "metadata": {},
   "outputs": [],
   "source": [
    "#applying the switch in phases and merge the values in new frequency arrays\n",
    "realA, imagA = cv2.polarToCart(magA, phaseB)\n",
    "realB, imagB = cv2.polarToCart(magB, phaseA)\n",
    "mergedCartA = cv2.merge([realA, imagA])\n",
    "mergedCartB = cv2.merge([realB, imagB])\n",
    "\n",
    "#undoing the shift\n",
    "mergedCartA_ishift = np.fft.ifftshift(mergedCartA)\n",
    "mergedCartB_ishift = np.fft.ifftshift(mergedCartB)\n",
    "\n",
    "#inverse fourier transform\n",
    "newA = cv2.idft(mergedCartA_ishift)\n",
    "newB = cv2.idft(mergedCartB_ishift)"
   ]
  },
  {
   "cell_type": "code",
   "execution_count": 36,
   "id": "1ef677a8",
   "metadata": {},
   "outputs": [],
   "source": [
    "newA = cv2.magnitude(newA[:,:,0], newA[:,:,1])\n",
    "newB = cv2.magnitude(newB[:,:,0], newB[:,:,1])\n",
    "\n",
    "#converting back to 8 bit images from 32 bit\n",
    "newA = cv2.normalize(newA, None, alpha=0, beta=255, norm_type=cv2.NORM_MINMAX, dtype=cv2.CV_8U)\n",
    "newB = cv2.normalize(newB, None, alpha=0, beta=255, norm_type=cv2.NORM_MINMAX, dtype=cv2.CV_8U)"
   ]
  },
  {
   "cell_type": "code",
   "execution_count": null,
   "id": "376bd037",
   "metadata": {},
   "outputs": [],
   "source": [
    "#showing the results\n",
    "cv2.imshow('original', Ia)\n",
    "cv2.imshow('newA', newA)\n",
    "cv2.imshow('newB', newB)\n",
    "cv2.waitKey(0)\n",
    "cv2.destroyAllWindows()"
   ]
  },
  {
   "cell_type": "code",
   "execution_count": 1,
   "id": "b476eec2",
   "metadata": {},
   "outputs": [],
   "source": [
    "#=========================================================================\n",
    "import numpy as np\n",
    "import cv2\n",
    "\n",
    "houseImg = cv2.imread('house.tif', 0)\n",
    "\n",
    "#Laplacian of Gaussian\n",
    "gaussianBlur = cv2.GaussianBlur(houseImg, (3,3), 0)\n",
    "laplacianOfGuassian = cv2.Laplacian(gaussianBlur, cv2.CV_64F)\n",
    "\n",
    "#Canny edge detection\n",
    "cannyEdge = cv2.Canny(houseImg, 100, 200)\n",
    "\n",
    "cv2.imshow('LoG', laplacianOfGuassian)\n",
    "cv2.imshow('Canny', cannyEdge)\n",
    "cv2.waitKey(0)\n",
    "cv2.destroyAllWindows()"
   ]
  },
  {
   "cell_type": "code",
   "execution_count": null,
   "id": "de64ccb3",
   "metadata": {},
   "outputs": [],
   "source": []
  }
 ],
 "metadata": {
  "kernelspec": {
   "display_name": "Python 3 (ipykernel)",
   "language": "python",
   "name": "python3"
  },
  "language_info": {
   "codemirror_mode": {
    "name": "ipython",
    "version": 3
   },
   "file_extension": ".py",
   "mimetype": "text/x-python",
   "name": "python",
   "nbconvert_exporter": "python",
   "pygments_lexer": "ipython3",
   "version": "3.9.5"
  }
 },
 "nbformat": 4,
 "nbformat_minor": 5
}
