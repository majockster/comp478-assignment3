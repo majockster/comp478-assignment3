{
 "cells": [
  {
   "cell_type": "code",
   "execution_count": 6,
   "id": "ae095c40",
   "metadata": {},
   "outputs": [],
   "source": [
    "import numpy as np\n",
    "import cv2\n",
    "\n",
    "Ia = cv2.imread('house.tif', 0)\n",
    "Ib = cv2.imread('jet.tiff', 0)\n",
    "\n",
    "Fa = cv2.dft(np.float32(Ia), flags = cv2.DFT_COMPLEX_OUTPUT)\n",
    "dft_shift_a = np.fft.fftshift(Fa)\n",
    "\n",
    "Fb = cv2.dft(np.float32(Ib), flags = cv2.DFT_COMPLEX_OUTPUT)\n",
    "dft_shift_b = np.fft.fftshift(Fb)\n",
    "\n",
    "magA, phaseA = cv2.cartToPolar(dft_shift_a[:,:,0], dft_shift_a[:,:,1])\n",
    "magB, phaseB = cv2.cartToPolar(dft_shift_b[:,:,0], dft_shift_b[:,:,1])"
   ]
  },
  {
   "cell_type": "code",
   "execution_count": 7,
   "id": "c4bac1f9",
   "metadata": {},
   "outputs": [],
   "source": [
    "realA, imagA = cv2.polarToCart(magA, phaseB)\n",
    "realB, imagB = cv2.polarToCart(magB, phaseA)\n",
    "\n",
    "mergedCartA = cv2.merge([realA, imagA])\n",
    "mergedCartB = cv2.merge([realB, imagB])\n",
    "\n",
    "mergedCartA_ishift = np.fft.ifftshift(mergedCartA)\n",
    "mergedCartB_ishift = np.fft.ifftshift(mergedCartB)\n",
    "\n",
    "newA = cv2.idft(mergedCartA_ishift)\n",
    "newB = cv2.idft(mergedCartB_ishift)"
   ]
  },
  {
   "cell_type": "code",
   "execution_count": 8,
   "id": "1ef677a8",
   "metadata": {},
   "outputs": [],
   "source": [
    "newA = cv2.magnitude(newA[:,:,0], newA[:,:,1])\n",
    "newB = cv2.magnitude(newB[:,:,0], newB[:,:,1])"
   ]
  },
  {
   "cell_type": "code",
   "execution_count": 9,
   "id": "376bd037",
   "metadata": {},
   "outputs": [],
   "source": [
    "hori_compare_Ia_newA = np.concatenate((Ia, newA), axis=1)\n",
    "hori_compare_Ia_newB = np.concatenate((Ib, newB), axis=1)\n",
    "\n",
    "cv2.imshow('Ia vs NewA', hori_compare_Ia_newA)\n",
    "cv2.imshow('Ib vs NewB', hori_compare_Ia_newB)\n",
    "\n",
    "cv2.waitKey(0)\n",
    "cv2.destroyAllWindows()"
   ]
  },
  {
   "cell_type": "code",
   "execution_count": null,
   "id": "27f926de",
   "metadata": {},
   "outputs": [],
   "source": []
  }
 ],
 "metadata": {
  "kernelspec": {
   "display_name": "Python 3 (ipykernel)",
   "language": "python",
   "name": "python3"
  },
  "language_info": {
   "codemirror_mode": {
    "name": "ipython",
    "version": 3
   },
   "file_extension": ".py",
   "mimetype": "text/x-python",
   "name": "python",
   "nbconvert_exporter": "python",
   "pygments_lexer": "ipython3",
   "version": "3.9.5"
  }
 },
 "nbformat": 4,
 "nbformat_minor": 5
}
